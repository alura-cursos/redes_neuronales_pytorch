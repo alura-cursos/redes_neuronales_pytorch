{
  "nbformat": 4,
  "nbformat_minor": 0,
  "metadata": {
    "colab": {
      "provenance": [],
      "collapsed_sections": [
        "ao_nY71Sw-3N",
        "eBVXlCfZxB68"
      ],
      "authorship_tag": "ABX9TyP21zzI1l2xSOQdWCkWBTX6",
      "include_colab_link": true
    },
    "kernelspec": {
      "name": "python3",
      "display_name": "Python 3"
    },
    "language_info": {
      "name": "python"
    },
    "gpuClass": "standard"
  },
  "cells": [
    {
      "cell_type": "markdown",
      "metadata": {
        "id": "view-in-github",
        "colab_type": "text"
      },
      "source": [
        "<a href=\"https://colab.research.google.com/github/estebanvz/redes_neuronales_pytorch/blob/aula-2/Redes_Neuronales_Deep_Learning_con_PyTorch.ipynb\" target=\"_parent\"><img src=\"https://colab.research.google.com/assets/colab-badge.svg\" alt=\"Open In Colab\"/></a>"
      ]
    },
    {
      "cell_type": "markdown",
      "source": [
        "# Alura - Redes Neuronales: Deep Learning con PyTorch"
      ],
      "metadata": {
        "id": "lXC1QMn9cVU1"
      }
    },
    {
      "cell_type": "markdown",
      "source": [
        "## Pytorch vs Numpy"
      ],
      "metadata": {
        "id": "ao_nY71Sw-3N"
      }
    },
    {
      "cell_type": "code",
      "source": [
        "TAMANO=1000000000"
      ],
      "metadata": {
        "id": "OhN8y_kK9L4t"
      },
      "execution_count": null,
      "outputs": []
    },
    {
      "cell_type": "code",
      "source": [
        "import numpy as np\n",
        "def funcion_activacion(x):\n",
        "  if(x>=0.0):\n",
        "    return 1\n",
        "  else:\n",
        "    return 0\n",
        "class Perceptron():\n",
        "  def __init__(self, datos_entrada):\n",
        "    self.datos_entrada = np.array(datos_entrada)\n",
        "    self.pesos = np.array([1.0,-1.0,1.0]*TAMANO)\n",
        "  def forward(self,):\n",
        "    self.datos_salida = self.datos_entrada @ self.pesos\n",
        "    return funcion_activacion(self.datos_salida)\n"
      ],
      "metadata": {
        "id": "6lfqsXfhcVHL"
      },
      "execution_count": null,
      "outputs": []
    },
    {
      "cell_type": "code",
      "source": [
        "%%time\n",
        "datos_entrada = [0.22,0.170,0.80]*TAMANO\n",
        "perceptron = Perceptron(datos_entrada)\n",
        "prediccion = perceptron.forward()\n",
        "prediccion"
      ],
      "metadata": {
        "colab": {
          "base_uri": "https://localhost:8080/"
        },
        "id": "fjCVvbsAfLTw",
        "outputId": "b68c3909-5ae7-4d48-c8fa-8bed6638747a"
      },
      "execution_count": null,
      "outputs": [
        {
          "output_type": "stream",
          "name": "stdout",
          "text": [
            "CPU times: user 119 µs, sys: 19 µs, total: 138 µs\n",
            "Wall time: 132 µs\n"
          ]
        },
        {
          "output_type": "execute_result",
          "data": {
            "text/plain": [
              "array([8.5e+08])"
            ]
          },
          "metadata": {},
          "execution_count": 62
        }
      ]
    },
    {
      "cell_type": "code",
      "source": [
        "import torch\n",
        "gpu = torch.device(\"cuda\")\n",
        "class PerceptronTorch():\n",
        "  def __init__(self, datos_entrada):\n",
        "    self.datos_entrada = torch.tensor(datos_entrada).to(gpu)\n",
        "    self.pesos = torch.tensor([1.0,-1.0,1.0]*TAMANO).to(gpu)\n",
        "  def forward(self,):\n",
        "    self.datos_salida = self.datos_entrada @ self.pesos\n",
        "    return funcion_activacion(self.datos_salida)"
      ],
      "metadata": {
        "id": "5mYjmbO67-uQ"
      },
      "execution_count": null,
      "outputs": []
    },
    {
      "cell_type": "code",
      "source": [
        "%%time\n",
        "datos_entrada = [0.22,0.170,0.80]*TAMANO\n",
        "perceptron = PerceptronTorch(datos_entrada)\n",
        "prediccion = perceptron.forward()\n",
        "prediccion"
      ],
      "metadata": {
        "id": "-Kj2nPZI4uSY",
        "colab": {
          "base_uri": "https://localhost:8080/"
        },
        "outputId": "348407dc-590b-4f71-fed0-36b876f02a1a"
      },
      "execution_count": null,
      "outputs": [
        {
          "output_type": "stream",
          "name": "stdout",
          "text": [
            "CPU times: user 482 ms, sys: 266 ms, total: 748 ms\n",
            "Wall time: 2.37 s\n"
          ]
        },
        {
          "output_type": "execute_result",
          "data": {
            "text/plain": [
              "1"
            ]
          },
          "metadata": {},
          "execution_count": 57
        }
      ]
    },
    {
      "cell_type": "code",
      "source": [],
      "metadata": {
        "id": "cEjyUcxkvkSj"
      },
      "execution_count": null,
      "outputs": []
    },
    {
      "cell_type": "markdown",
      "source": [
        "## Operaciones con tensores"
      ],
      "metadata": {
        "id": "eBVXlCfZxB68"
      }
    },
    {
      "cell_type": "code",
      "source": [
        "import torch\n",
        "torch.rand(size=(5,2)).double()"
      ],
      "metadata": {
        "colab": {
          "base_uri": "https://localhost:8080/"
        },
        "id": "9fGi0ubWJ3GJ",
        "outputId": "920991ef-0231-4efd-e732-4ed49848b03b"
      },
      "execution_count": null,
      "outputs": [
        {
          "output_type": "execute_result",
          "data": {
            "text/plain": [
              "tensor([[0.5631, 0.7417],\n",
              "        [0.0624, 0.4848],\n",
              "        [0.4028, 0.8742],\n",
              "        [0.5451, 0.5984],\n",
              "        [0.6652, 0.2140]], dtype=torch.float64)"
            ]
          },
          "metadata": {},
          "execution_count": 113
        }
      ]
    },
    {
      "cell_type": "code",
      "source": [
        "pesos = torch.tensor([1.0,1.0,1.0])\n",
        "tmp = torch.rand(size=(5,3))\n",
        "tmp"
      ],
      "metadata": {
        "colab": {
          "base_uri": "https://localhost:8080/"
        },
        "id": "dWtq_UscKW2k",
        "outputId": "0580dd3c-13f9-4f55-d6c4-d23eb9382e2c"
      },
      "execution_count": null,
      "outputs": [
        {
          "output_type": "execute_result",
          "data": {
            "text/plain": [
              "tensor([[0.2300, 0.9002, 0.9436],\n",
              "        [0.6944, 0.5942, 0.2988],\n",
              "        [0.9712, 0.0767, 0.2143],\n",
              "        [0.9327, 0.2489, 0.6932],\n",
              "        [0.5626, 0.5014, 0.7176]])"
            ]
          },
          "metadata": {},
          "execution_count": 115
        }
      ]
    },
    {
      "cell_type": "code",
      "source": [
        "tmp @ pesos"
      ],
      "metadata": {
        "colab": {
          "base_uri": "https://localhost:8080/"
        },
        "id": "zVVxC2O9Lbkn",
        "outputId": "05d55285-a8b5-4098-da38-842dac284eba"
      },
      "execution_count": null,
      "outputs": [
        {
          "output_type": "execute_result",
          "data": {
            "text/plain": [
              "tensor([2.0738, 1.5874, 1.2622, 1.8749, 1.7816])"
            ]
          },
          "metadata": {},
          "execution_count": 116
        }
      ]
    },
    {
      "cell_type": "code",
      "source": [
        "pesos = torch.tensor([[1.0,1.0,1.0]]).T\n",
        "torch.mm(tmp,pesos)"
      ],
      "metadata": {
        "colab": {
          "base_uri": "https://localhost:8080/"
        },
        "id": "9g6Li8Q1LfSI",
        "outputId": "46f8c3e0-4d18-410c-96b3-f39e87f1e6c7"
      },
      "execution_count": null,
      "outputs": [
        {
          "output_type": "execute_result",
          "data": {
            "text/plain": [
              "tensor([[2.0738],\n",
              "        [1.5874],\n",
              "        [1.2622],\n",
              "        [1.8749],\n",
              "        [1.7816]])"
            ]
          },
          "metadata": {},
          "execution_count": 122
        }
      ]
    },
    {
      "cell_type": "code",
      "source": [
        "torch.mm(tmp,pesos) + torch.ones(size=(5,1))*2"
      ],
      "metadata": {
        "colab": {
          "base_uri": "https://localhost:8080/"
        },
        "id": "0WCoIVWnLwXd",
        "outputId": "243e65e9-87c0-47eb-ca8e-b1fa9dd75518"
      },
      "execution_count": null,
      "outputs": [
        {
          "output_type": "execute_result",
          "data": {
            "text/plain": [
              "tensor([[4.0738],\n",
              "        [3.5874],\n",
              "        [3.2622],\n",
              "        [3.8749],\n",
              "        [3.7816]])"
            ]
          },
          "metadata": {},
          "execution_count": 124
        }
      ]
    },
    {
      "cell_type": "markdown",
      "source": [
        "## MLP\n",
        "![neuralnetwork.png](data:image/png;base64,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)"
      ],
      "metadata": {
        "id": "DifNaPXlQvvO"
      }
    },
    {
      "cell_type": "code",
      "source": [
        "import torch\n",
        "import torch.nn as nn\n",
        "class MLP(nn.Module):\n",
        "  def __init__(self, dim_1,dim_2,dim_3):\n",
        "    super(MLP,self).__init__()\n",
        "    self.capa1 = nn.Linear(dim_1,dim_2) ## dim_1 -> dimensión de los datos de entrada\n",
        "    self.capa2 = nn.Linear(dim_2,dim_3) ## dim_2 -> dimensión de los datos de la primera capa\n",
        "  def forward(self, data):\n",
        "    resultado_capa1 = self.capa1(data) ## tmp = data @ pesos_capa1\n",
        "    resultado_capa2 = self.capa2(resultado_capa1) ## tmp = tmp @ pesos_capa2\n",
        "    return resultado_capa2\n"
      ],
      "metadata": {
        "id": "IHZOdUkxVdZH"
      },
      "execution_count": null,
      "outputs": []
    },
    {
      "cell_type": "code",
      "source": [
        "mlp = MLP(dim_1=3,dim_2=2,dim_3=1)"
      ],
      "metadata": {
        "id": "IR6FFswFXxSA"
      },
      "execution_count": null,
      "outputs": []
    },
    {
      "cell_type": "code",
      "source": [
        "data =torch.tensor([10.0,1.0,1.0])\n",
        "mlp.forward(data)"
      ],
      "metadata": {
        "colab": {
          "base_uri": "https://localhost:8080/"
        },
        "id": "kbY65OHmaNMK",
        "outputId": "6c06688a-5232-41ae-dcd2-85716596bdc7"
      },
      "execution_count": null,
      "outputs": [
        {
          "output_type": "execute_result",
          "data": {
            "text/plain": [
              "tensor([0.0026], grad_fn=<AddBackward0>)"
            ]
          },
          "metadata": {},
          "execution_count": 39
        }
      ]
    }
  ]
}