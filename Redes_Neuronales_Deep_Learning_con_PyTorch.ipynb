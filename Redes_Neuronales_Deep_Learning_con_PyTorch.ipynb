{
  "nbformat": 4,
  "nbformat_minor": 0,
  "metadata": {
    "colab": {
      "provenance": [],
      "collapsed_sections": [],
      "authorship_tag": "ABX9TyNSx2PRHGjtwGgQ6QzD9ljq",
      "include_colab_link": true
    },
    "kernelspec": {
      "name": "python3",
      "display_name": "Python 3"
    },
    "language_info": {
      "name": "python"
    },
    "accelerator": "GPU",
    "gpuClass": "standard"
  },
  "cells": [
    {
      "cell_type": "markdown",
      "metadata": {
        "id": "view-in-github",
        "colab_type": "text"
      },
      "source": [
        "<a href=\"https://colab.research.google.com/github/estebanvz/redes_neuronales_pytorch/blob/aula-1/Aula1.ipynb\" target=\"_parent\"><img src=\"https://colab.research.google.com/assets/colab-badge.svg\" alt=\"Open In Colab\"/></a>"
      ]
    },
    {
      "cell_type": "markdown",
      "source": [
        "# Alura - Redes Neuronales: Deep Learning con PyTorch"
      ],
      "metadata": {
        "id": "lXC1QMn9cVU1"
      }
    },
    {
      "cell_type": "code",
      "source": [
        "TAMANO = 10000000"
      ],
      "metadata": {
        "id": "LgUQ_79632RI"
      },
      "execution_count": null,
      "outputs": []
    },
    {
      "cell_type": "code",
      "source": [
        "import numpy as np\n",
        "def funcion_activacion(x):\n",
        "  if(x>=0.0):\n",
        "    return 1\n",
        "  else:\n",
        "    return 0\n",
        "class Perceptron():\n",
        "  def __init__(self, datos_entrada):\n",
        "    self.datos_entrada = np.array(datos_entrada)\n",
        "    self.pesos = np.array([1.0,-1.0,1.0]*TAMANO)\n",
        "  def forward(self,):\n",
        "    self.datos_salida = self.datos_entrada @ self.pesos\n",
        "    return funcion_activacion(self.datos_salida)\n"
      ],
      "metadata": {
        "id": "6lfqsXfhcVHL"
      },
      "execution_count": null,
      "outputs": []
    },
    {
      "cell_type": "code",
      "source": [
        "%%time\n",
        "datos_entrada = [0.22,0.170,0.80]*TAMANO\n",
        "perceptron = Perceptron(datos_entrada)\n",
        "prediccion = perceptron.forward()\n",
        "prediccion"
      ],
      "metadata": {
        "colab": {
          "base_uri": "https://localhost:8080/"
        },
        "id": "fjCVvbsAfLTw",
        "outputId": "624f72be-defd-4d6e-dcb0-3536ed8a0245"
      },
      "execution_count": null,
      "outputs": [
        {
          "output_type": "stream",
          "name": "stdout",
          "text": [
            "CPU times: user 3.57 s, sys: 18.1 ms, total: 3.59 s\n",
            "Wall time: 3.54 s\n"
          ]
        },
        {
          "output_type": "execute_result",
          "data": {
            "text/plain": [
              "1"
            ]
          },
          "metadata": {},
          "execution_count": 50
        }
      ]
    },
    {
      "cell_type": "code",
      "source": [
        "import torch\n",
        "gpu = torch.device(\"cuda\")\n",
        "class PerceptronTorch():\n",
        "  def __init__(self, datos_entrada):\n",
        "    self.datos_entrada = torch.tensor(datos_entrada).to(gpu)\n",
        "    self.pesos = torch.tensor([1.0,-1.0,1.0]*TAMANO).to(gpu)\n",
        "  def forward(self,):\n",
        "    self.datos_salida = self.datos_entrada @ self.pesos\n",
        "    return funcion_activacion(self.datos_salida)"
      ],
      "metadata": {
        "id": "NeBZuePf3FXK"
      },
      "execution_count": null,
      "outputs": []
    },
    {
      "cell_type": "code",
      "source": [
        "%%time\n",
        "datos_entrada = [0.22,0.170,0.80]*TAMANO\n",
        "perceptron = PerceptronTorch(datos_entrada)\n",
        "prediccion = perceptron.forward()\n",
        "prediccion"
      ],
      "metadata": {
        "colab": {
          "base_uri": "https://localhost:8080/"
        },
        "id": "-Kj2nPZI4uSY",
        "outputId": "ef26a233-3996-438b-8c92-b9fd86cdccdb"
      },
      "execution_count": null,
      "outputs": [
        {
          "output_type": "stream",
          "name": "stdout",
          "text": [
            "CPU times: user 2.59 s, sys: 65.6 ms, total: 2.65 s\n",
            "Wall time: 2.61 s\n"
          ]
        },
        {
          "output_type": "execute_result",
          "data": {
            "text/plain": [
              "1"
            ]
          },
          "metadata": {},
          "execution_count": 52
        }
      ]
    },
    {
      "cell_type": "code",
      "source": [],
      "metadata": {
        "id": "BvwGGttN49gC"
      },
      "execution_count": null,
      "outputs": []
    }
  ]
}